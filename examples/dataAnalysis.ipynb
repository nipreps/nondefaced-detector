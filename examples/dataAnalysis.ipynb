{
 "cells": [
  {
   "cell_type": "code",
   "execution_count": 3,
   "metadata": {},
   "outputs": [],
   "source": [
    "# ipython settings\n",
    "%load_ext autoreload\n",
    "%autoreload 2\n",
    "\n",
    "import sys\n",
    "sys.path.append('..')\n",
    "from defacing.dataloaders import dataset"
   ]
  },
  {
   "cell_type": "code",
   "execution_count": 4,
   "metadata": {},
   "outputs": [],
   "source": [
    "n_classes = 2\n",
    "global_batch_size = 8\n",
    "volume_shape = (64, 64, 64)\n",
    "ROOTDIR = '/work/06850/sbansal6/maverick2/mriqc-shared/experiment_faced_defaced/'\n",
    "\n",
    "ds = dataset.get_dataset(\n",
    "    ROOTDIR + \"tfrecords/tfrecords_fold_1/data-train_*\",\n",
    "    n_classes=n_classes,\n",
    "    batch_size=global_batch_size,\n",
    "    volume_shape=volume_shape,\n",
    "    plane=\"combined\",\n",
    "    augment = True,\n",
    "    shuffle_buffer_size=3,\n",
    ")"
   ]
  },
  {
   "cell_type": "code",
   "execution_count": 5,
   "metadata": {},
   "outputs": [],
   "source": [
    "import matplotlib.pyplot as plt\n",
    "%matplotlib inline "
   ]
  },
  {
   "cell_type": "code",
   "execution_count": null,
   "metadata": {},
   "outputs": [],
   "source": [
    "print(ds)\n",
    "x,y=next(ds.take(1).as_numpy_iterator())\n",
    "print(x, y)"
   ]
  },
  {
   "cell_type": "code",
   "execution_count": null,
   "metadata": {},
   "outputs": [],
   "source": [
    "count = 1\n",
    "for i in range(global_batch_size):\n",
    "    for key in x.keys():\n",
    "        plt.subplot(global_batch_size, 3, count)\n",
    "        plt.imshow(x[key][i, :, :, 0])\n",
    "        plt.title(str(y[i]))\n",
    "        plt.xticks([],\" \")\n",
    "        plt.yticks([], \" \")\n",
    "        count += 1\n",
    "plt.show()"
   ]
  },
  {
   "cell_type": "code",
   "execution_count": null,
   "metadata": {},
   "outputs": [],
   "source": []
  }
 ],
 "metadata": {
  "kernelspec": {
   "display_name": "Python 3",
   "language": "python",
   "name": "python3"
  },
  "language_info": {
   "codemirror_mode": {
    "name": "ipython",
    "version": 3
   },
   "file_extension": ".py",
   "mimetype": "text/x-python",
   "name": "python",
   "nbconvert_exporter": "python",
   "pygments_lexer": "ipython3",
   "version": "3.7.7"
  }
 },
 "nbformat": 4,
 "nbformat_minor": 4
}
