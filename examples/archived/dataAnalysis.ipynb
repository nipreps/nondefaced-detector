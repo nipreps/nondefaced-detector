{
 "cells": [
  {
   "cell_type": "code",
   "execution_count": 1,
   "metadata": {},
   "outputs": [
    {
     "name": "stdout",
     "output_type": "stream",
     "text": [
      "['/usr/lib/python36.zip', '/usr/lib/python3.6', '/usr/lib/python3.6/lib-dynload', '', '/usr/local/lib/python3.6/dist-packages', '/usr/lib/python3/dist-packages', '/usr/local/lib/python3.6/dist-packages/IPython/extensions', '/root/.ipython', '../defacing']\n"
     ]
    },
    {
     "ename": "SyntaxError",
     "evalue": "invalid syntax (dataset.py, line 28)",
     "output_type": "error",
     "traceback": [
      "Traceback \u001b[0;36m(most recent call last)\u001b[0m:\n",
      "  File \u001b[1;32m\"/usr/local/lib/python3.6/dist-packages/IPython/core/interactiveshell.py\"\u001b[0m, line \u001b[1;32m3343\u001b[0m, in \u001b[1;35mrun_code\u001b[0m\n    exec(code_obj, self.user_global_ns, self.user_ns)\n",
      "\u001b[0;36m  File \u001b[0;32m\"<ipython-input-1-d91012ab46fb>\"\u001b[0;36m, line \u001b[0;32m8\u001b[0;36m, in \u001b[0;35m<module>\u001b[0;36m\u001b[0m\n\u001b[0;31m    from dataloaders import dataset\u001b[0m\n",
      "\u001b[0;36m  File \u001b[0;32m\"../defacing/dataloaders/dataset.py\"\u001b[0;36m, line \u001b[0;32m28\u001b[0m\n\u001b[0;31m    3daugmentations = {'rotation': 0.5,\u001b[0m\n\u001b[0m                  ^\u001b[0m\n\u001b[0;31mSyntaxError\u001b[0m\u001b[0;31m:\u001b[0m invalid syntax\n"
     ]
    }
   ],
   "source": [
    "# # ipython settings\n",
    "# %load_ext autoreload\n",
    "# %autoreload 2\n",
    "\n",
    "import sys\n",
    "sys.path.append('../defacing')\n",
    "print(sys.path)\n",
    "from dataloaders import dataset"
   ]
  },
  {
   "cell_type": "code",
   "execution_count": null,
   "metadata": {
    "scrolled": false
   },
   "outputs": [],
   "source": [
    "n_classes = 2\n",
    "global_batch_size = 8\n",
    "volume_shape = (64, 64, 64)\n",
    "# ROOTDIR = '/work/06850/sbansal6/maverick2/mriqc-shared/experiment_faced_defaced/'\n",
    "ds = dataset.get_dataset(\n",
    "    ROOTDIR + \"tfrecords/tfrecords_fold_1/data-train_*\",\n",
    "    n_classes=n_classes,\n",
    "    batch_size=global_batch_size,\n",
    "    volume_shape=volume_shape,\n",
    "    plane=\"combined\",\n",
    "    augment = True,\n",
    "    shuffle_buffer_size=3,\n",
    ")"
   ]
  },
  {
   "cell_type": "code",
   "execution_count": null,
   "metadata": {},
   "outputs": [],
   "source": [
    "import matplotlib.pyplot as plt\n",
    "%matplotlib inline "
   ]
  },
  {
   "cell_type": "code",
   "execution_count": null,
   "metadata": {},
   "outputs": [],
   "source": [
    "print(ds)\n",
    "x,y=next(ds.take(1).as_numpy_iterator())\n",
    "print(x, y)"
   ]
  },
  {
   "cell_type": "code",
   "execution_count": null,
   "metadata": {},
   "outputs": [],
   "source": [
    "count = 1\n",
    "for i in range(global_batch_size):\n",
    "    for key in x.keys():\n",
    "        plt.subplot(global_batch_size, 3, count)\n",
    "        plt.imshow(x[key][i, :, :, 0])\n",
    "        plt.title(str(y[i]))\n",
    "        plt.xticks([],\" \")\n",
    "        plt.yticks([], \" \")\n",
    "        count += 1\n",
    "plt.show()"
   ]
  }
 ],
 "metadata": {
  "kernelspec": {
   "display_name": "Python 3",
   "language": "python",
   "name": "python3"
  },
  "language_info": {
   "codemirror_mode": {
    "name": "ipython",
    "version": 3
   },
   "file_extension": ".py",
   "mimetype": "text/x-python",
   "name": "python",
   "nbconvert_exporter": "python",
   "pygments_lexer": "ipython3",
   "version": "3.6.9"
  }
 },
 "nbformat": 4,
 "nbformat_minor": 4
}
