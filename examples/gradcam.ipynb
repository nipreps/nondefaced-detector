{
 "cells": [
  {
   "cell_type": "code",
   "execution_count": null,
   "metadata": {},
   "outputs": [],
   "source": [
    "!pip install tf-keras-vis"
   ]
  },
  {
   "cell_type": "code",
   "execution_count": null,
   "metadata": {},
   "outputs": [],
   "source": [
    "import sys\n",
    "sys.path.append('..')\n",
    "from defacing.helpers.utils import load_vol\n",
    "from defacing.dataloaders.inference_dataloader import DataGeneratoronFly\n",
    "from defacing.models.modelN import Submodel, relu6\n",
    "\n",
    "import numpy as np\n",
    "import matplotlib.cm as cm\n",
    "import matplotlib.pyplot as plt\n",
    "import matplotlib.gridspec as gridspec\n",
    "from mpl_toolkits.axes_grid1 import make_axes_locatable\n",
    "import tensorflow as tf"
   ]
  },
  {
   "cell_type": "code",
   "execution_count": null,
   "metadata": {},
   "outputs": [],
   "source": [
    "root_path = '/home/pi/weights/'\n",
    "mode = 'sagittal'"
   ]
  },
  {
   "cell_type": "code",
   "execution_count": null,
   "metadata": {
    "scrolled": false
   },
   "outputs": [],
   "source": [
    "#from keras.utils.generic_utils import CustomObjectScope\n",
    "from matplotlib import cm\n",
    "import os\n",
    "from tf_keras_vis.gradcam import Gradcam\n",
    "from tf_keras_vis.utils import normalize\n",
    "\n",
    "\n",
    "def get_cam(volume, mode='axial'):\n",
    "    \n",
    "    dataloader_params = {\n",
    "            \"conform_size\": (64, 64, 64),\n",
    "            \"conform_zoom\": (4., 4., 4.), \n",
    "            \"nchannels\": 1, \n",
    "            \"nruns\": 8,\n",
    "            \"nsamples\": 20,\n",
    "            \"save\": False, \n",
    "            \"transform\": None\n",
    "        }\n",
    "    \n",
    "    datagenerator = DataGeneratoronFly(**dataloader_params)\n",
    "    slices = datagenerator.get_data(volume)\n",
    "    slices = np.transpose(np.array(slices),axes=[1, 0, 2, 3, 4])\n",
    "    ds = {}\n",
    "    ds['axial'] = slices[0]\n",
    "    ds['coronal'] = slices[1]\n",
    "    ds['sagittal'] = slices[2]\n",
    "    \n",
    "    model = Submodel(input_shape=(64, 64),\n",
    "                    name=mode,\n",
    "                    weights=mode,\n",
    "                    root_path=root_path,\n",
    "                    include_top=True,\n",
    "                    trainable=False)\n",
    "\n",
    "    score = np.squeeze(model.predict(ds[mode][0][None,...]))\n",
    "    print(score)\n",
    "    \n",
    "    def model_modifier(m):\n",
    "        m.layers[-1].activation = tf.keras.activations.linear\n",
    "\n",
    "    # Create Gradcam object\n",
    "    gradcam = Gradcam(model, model_modifier)\n",
    "\n",
    "    # Generate heatmap with GradCAM\n",
    "    cam = gradcam(lambda x: x, ds[mode])\n",
    "    cam = normalize(cam)\n",
    "    return ds[mode], cam"
   ]
  },
  {
   "cell_type": "code",
   "execution_count": null,
   "metadata": {},
   "outputs": [],
   "source": [
    "faced_path = '../sample_vols/faced/example1.nii.gz'\n",
    "defaced_path = '../sample_vols/defaced/example1.nii.gz'"
   ]
  },
  {
   "cell_type": "code",
   "execution_count": null,
   "metadata": {},
   "outputs": [],
   "source": [
    "volume, _, _ = load_vol(faced_path)\n",
    "imgs, cam = get_cam(volume, 'axial')\n",
    "for i in range(cam.shape[0]):\n",
    "    plt.imshow(np.rot90(imgs[i,:,:,0], 2))\n",
    "    plt.imshow(np.rot90(cam[i],2), cmap='jet', alpha=0.5)\n",
    "    plt.show()"
   ]
  },
  {
   "cell_type": "code",
   "execution_count": null,
   "metadata": {},
   "outputs": [],
   "source": [
    "volume, _, _ = load_vol(defaced_path)\n",
    "imgs, cam = get_cam(volume, 'axial')\n",
    "for i in range(cam.shape[0]):\n",
    "    plt.imshow(np.rot90(imgs[i,:,:,0], 2))\n",
    "    plt.imshow(np.rot90(cam[i],2), cmap='jet', alpha=0.5)\n",
    "    plt.show()"
   ]
  },
  {
   "cell_type": "code",
   "execution_count": null,
   "metadata": {},
   "outputs": [],
   "source": []
  }
 ],
 "metadata": {
  "kernelspec": {
   "display_name": "Python 3",
   "language": "python",
   "name": "python3"
  },
  "language_info": {
   "codemirror_mode": {
    "name": "ipython",
    "version": 3
   },
   "file_extension": ".py",
   "mimetype": "text/x-python",
   "name": "python",
   "nbconvert_exporter": "python",
   "pygments_lexer": "ipython3",
   "version": "3.7.3"
  }
 },
 "nbformat": 4,
 "nbformat_minor": 4
}
