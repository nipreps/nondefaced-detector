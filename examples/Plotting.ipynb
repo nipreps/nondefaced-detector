{
 "cells": [
  {
   "cell_type": "code",
   "execution_count": 1,
   "metadata": {},
   "outputs": [],
   "source": [
    "import os\n",
    "import numpy as np\n",
    "from nilearn.image import smooth_img\n",
    "from nilearn import plotting\n",
    "from glob import glob\n",
    "import sys\n",
    "sys.path.append('../defacing')\n",
    "from helpers.utils import load_vol\n",
    "%matplotlib inline\n",
    "import matplotlib.pyplot as plt"
   ]
  },
  {
   "cell_type": "markdown",
   "metadata": {},
   "source": [
    "# Documentation\n",
    "\n",
    "This document explains the various experiments and datasets contained within this folder for the project `mri-face-detector`.\n",
    "\n",
    "```\n",
    "conformed: \n",
    "contains the pre-proccessed and conformed datasets for the following:\n",
    " \n",
    " - deface: The original defaced datasets from OpenNeuro\n",
    " - face: The original faced datasets from OpenNeuro\n",
    " - face_defaced: The original faced datasets defaced using pydeface from OpenNeuro\n",
    "\n",
    "experiment_data_all: \n",
    "contains the models, tfrecords, data-split csv's and results trained on the entire datasets (faced, defaced and faced_defaced volumes)\n",
    "\n",
    "experiment_faced_defaced:\n",
    "contains the models, tfrecords, data-split csv's and results trained on a subset of datasets (only the faced and faced_defaced volumes)\n",
    "\n",
    "experiment_faced_refaced: \n",
    "contains the models, tfrecords, data-split csv's and results trained on a subset of datasets (only 100 faced, faced_defaced and faced_refaced volumes). This experiment was conducted to understand the possibility/repurcussions of using the refacing tools.\n",
    "\n",
    "masks:\n",
    "\n",
    "preprocessing:\n",
    "contains only the pre-processed volume data. The pre-processing include min-max normalization, median standardization and clipping values to the 90th percentile.\n",
    "  \n",
    "  - deface, face, face_defaced: explained under section conformed.\n",
    "  - save_plots: Visual plots generated to guage the validity of the pre-processing. Each volume figure was generated using nilearn.\n",
    "\n",
    "refaced:\n",
    "  - afni-latest.simg: the singularity image to run afni (Precompiled binary linux_openmp_64: Jul 31 2020 (Version AFNI_20.2.08 'Aulus Vitellius')\n",
    "  - orig_defaced: the refaced volumes generated using afni-reface-run for the original defaced datasets from OpenNeuro\n",
    "  - orig_faced: the refaced volumes generated using afni-reface-run for the original faced datasets that were defaced using pydeface from OpenNeuro\n",
    "\n",
    "test_conformed:\n",
    "\n",
    "```"
   ]
  },
  {
   "cell_type": "code",
   "execution_count": 3,
   "metadata": {},
   "outputs": [
    {
     "name": "stdout",
     "output_type": "stream",
     "text": [
      "['ds002033_anat', 'ds002149_anat', 'ds001928_anat', 'ds002316_anat', 'ds002001_anat', 'ds002076_anat', 'ds002156_anat', 'ds002247_anat', 'ds002236_anat', 'ds001946_anat', 'ds002153_anat', 'ds001985_anat', 'ds002006_anat', 'ds002207_anat', 'ds002250_anat', 'ds001972_anat', 'ds002185_anat', 'ds002152_anat', 'afni-latest.simg', 'ds002237_anat', 'ds002080_anat', 'ds002014_anat', 'ds001980_anat', 'ds002041_anat', 'ds002011_anat', 'ds002242_anat', 'ds001923_anat', 'ds002000_anat', 'ds001978_anat', 'ds002147_anat', 'ds002013_anat', 'ds001927_anat', 'ds001926_anat', 'ds001921_anat', 'ds002016_anat', 'ds001912_anat', 'ds002320_anat']\n"
     ]
    }
   ],
   "source": [
    "ROOT_PATH = '/work/06850/sbansal6/maverick2/mriqc-shared/refaced/'\n",
    "# ROOT_PATH = '../'\n",
    "SAVE_ROOT = os.path.join(ROOT_PATH, 'save_plots')\n",
    "DISTRIBUTION = load_vol('../defacing/helpers/distribution.nii.gz')[0]\n",
    "DISTRIBUTION /= DISTRIBUTION.sum()\n",
    "\n",
    "sampler = lambda n: np.array([ np.unravel_index(\n",
    "          np.random.choice(np.arange(np.prod(DISTRIBUTION.shape)),\n",
    "                                      p = DISTRIBUTION.ravel()),\n",
    "                                      DISTRIBUTION.shape) for _ in range(n)]) \n",
    "\n",
    "\n",
    "def plot(img_path, nslices=20, dataset=None):\n",
    "    save_path = os.path.join(ROOT_PATH, dataset, 'save_plots')\n",
    "    print(print (\"[INFO]: Save Path {}\".format(save_path)))\n",
    "    os.makedirs(save_path, exist_ok=True)\n",
    "    coordinates = sampler(nslices)\n",
    "    img = smooth_img(img_path, fwhm=3) \n",
    "    fig, axes = plt.subplots(nrows=nslices, ncols=1, figsize=(28, int(nslices*2.5)))\n",
    "        \n",
    "    axes = axes.flatten()\n",
    "    for i, coordinate in enumerate(coordinates):\n",
    "#         print(i, coordinate)\n",
    "        display = plotting.plot_anat(img, display_mode='ortho', cut_coords = coordinate, axes=axes[i])\n",
    "    \n",
    "    fig.savefig(os.path.join(save_path, 'vol_plot.png'))\n",
    "    display.close()\n",
    "    pass\n",
    "\n",
    "def plot_all(dataset, \n",
    "             nvolumes = 25, \n",
    "             nslices = 20, \n",
    "             verbose = True):\n",
    "    \n",
    "    paths = glob(os.path.join(ROOT_PATH, dataset, '*.nii*'))\n",
    "    paths = np.random.choice(paths, size=nvolumes) if len(paths) > nvolumes else paths\n",
    "    \n",
    "    for path in paths:\n",
    "        print(\"=\"*10 + path + \"=\"*10)\n",
    "        plot(path, nslices = nslices, dataset = dataset)\n",
    "    pass\n",
    "\n",
    "\n",
    "# for ds in os.listdir(ROOT_PATH):\n",
    "#     if ds == 'ds000213':\n",
    "#         plot_all(ds, None)\n",
    "\n",
    "classes = os.listdir(ROOT_PATH)\n",
    "# print(classes)\n",
    "exclude = ['ds002033_anat']\n",
    "\n",
    "for dataset in classes:\n",
    "    if dataset not in exclude:\n",
    "        print (\"[INFO]: Dataset {}\".format(dataset))\n",
    "        plot_all(dataset, nvolumes = 20, nslices = 10)"
   ]
  },
  {
   "cell_type": "code",
   "execution_count": null,
   "metadata": {},
   "outputs": [],
   "source": []
  }
 ],
 "metadata": {
  "kernelspec": {
   "display_name": "Python 3",
   "language": "python",
   "name": "python3"
  },
  "language_info": {
   "codemirror_mode": {
    "name": "ipython",
    "version": 3
   },
   "file_extension": ".py",
   "mimetype": "text/x-python",
   "name": "python",
   "nbconvert_exporter": "python",
   "pygments_lexer": "ipython3",
   "version": "3.6.9"
  }
 },
 "nbformat": 4,
 "nbformat_minor": 4
}
