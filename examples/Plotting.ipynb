{
 "cells": [
  {
   "cell_type": "code",
   "execution_count": 1,
   "metadata": {},
   "outputs": [],
   "source": [
    "import os\n",
    "import numpy as np\n",
    "from nilearn.image import smooth_img\n",
    "from nilearn import plotting\n",
    "from glob import glob\n",
    "import sys\n",
    "sys.path.append('..')\n",
    "from defacing.helpers.utils import load_vol\n",
    "%matplotlib inline"
   ]
  },
  {
   "cell_type": "code",
   "execution_count": 18,
   "metadata": {},
   "outputs": [],
   "source": [
    "# ROOT_PATH = '/work/06850/sbansal6/maverick2/mriqc-shared/preprocessing'\n",
    "ROOT_PATH = '../'\n",
    "SAVE_ROOT = '../save_plots/'\n",
    "DISTRIBUTION = load_vol('../defacing/helpers/distribution.nii.gz')[0]\n",
    "DISTRIBUTION /= DISTRIBUTION.sum()\n",
    "\n",
    "sampler = lambda n: np.array([ np.unravel_index(\n",
    "          np.random.choice(np.arange(np.prod(DISTRIBUTION.shape)),\n",
    "                                      p = DISTRIBUTION.ravel()),\n",
    "                                      DISTRIBUTION.shape) for _ in range(n)]) \n",
    "\n",
    "\n",
    "def plot(img_path, nslices=10, _class=None, dataset=None):\n",
    "    save_path = os.path.join(SAVE_ROOT, _class, dataset, img_path.split('/')[-1].split('.')[0])\n",
    "    os.makedirs(save_path, exist_ok=True)\n",
    "    coordinates = sampler(10)\n",
    "    img = smooth_img(img_path, fwhm=3) \n",
    "    for i, coordinate in enumerate(coordinates):\n",
    "        display = plotting.plot_anat(img, display_mode='ortho', cut_coords = coordinate) \n",
    "        display.savefig(os.path.join(save_path, str(i)+'.png'))\n",
    "    display.close()\n",
    "    pass\n",
    "\n",
    "def plot_all(dataset, \n",
    "             _class, \n",
    "             nvolumes = 25, \n",
    "             nslices = 10, \n",
    "             verbose = True):\n",
    "    \n",
    "    paths = glob(os.path.join(ROOT_PATH, _class, dataset, '*.nii.gz'))\n",
    "    paths = np.random.choice(paths, size=nvolumes) if len(paths) > nvolumes else paths\n",
    "    \n",
    "    for path in paths:\n",
    "        print(\"=\"*10 + path + \"=\"*10)\n",
    "        plot(path, nslices = nslices, _class = _class, dataset = dataset)\n",
    "    pass"
   ]
  },
  {
   "cell_type": "code",
   "execution_count": null,
   "metadata": {},
   "outputs": [],
   "source": [
    "plot_all('defaced', 'sample_vols')"
   ]
  },
  {
   "cell_type": "code",
   "execution_count": 21,
   "metadata": {},
   "outputs": [
    {
     "name": "stdout",
     "output_type": "stream",
     "text": [
      "[INFO]: Dataset branches, class_ .git\n",
      "[INFO]: Dataset COMMIT_EDITMSG, class_ .git\n",
      "[INFO]: Dataset config, class_ .git\n",
      "[INFO]: Dataset description, class_ .git\n",
      "[INFO]: Dataset FETCH_HEAD, class_ .git\n",
      "[INFO]: Dataset HEAD, class_ .git\n",
      "[INFO]: Dataset hooks, class_ .git\n",
      "[INFO]: Dataset index, class_ .git\n",
      "[INFO]: Dataset info, class_ .git\n",
      "[INFO]: Dataset logs, class_ .git\n",
      "[INFO]: Dataset objects, class_ .git\n",
      "[INFO]: Dataset ORIG_HEAD, class_ .git\n",
      "[INFO]: Dataset packed-refs, class_ .git\n",
      "[INFO]: Dataset refs, class_ .git\n"
     ]
    },
    {
     "ename": "NotADirectoryError",
     "evalue": "[Errno 20] Not a directory: '../.gitignore'",
     "output_type": "error",
     "traceback": [
      "\u001b[0;31m---------------------------------------------------------------------------\u001b[0m",
      "\u001b[0;31mNotADirectoryError\u001b[0m                        Traceback (most recent call last)",
      "\u001b[0;32m<ipython-input-21-0355ed75b1ef>\u001b[0m in \u001b[0;36m<module>\u001b[0;34m\u001b[0m\n\u001b[1;32m      2\u001b[0m \u001b[0;34m\u001b[0m\u001b[0m\n\u001b[1;32m      3\u001b[0m \u001b[0;32mfor\u001b[0m \u001b[0mclass_\u001b[0m \u001b[0;32min\u001b[0m \u001b[0mclasses\u001b[0m\u001b[0;34m:\u001b[0m\u001b[0;34m\u001b[0m\u001b[0;34m\u001b[0m\u001b[0m\n\u001b[0;32m----> 4\u001b[0;31m     \u001b[0mdatasets\u001b[0m \u001b[0;34m=\u001b[0m \u001b[0mos\u001b[0m\u001b[0;34m.\u001b[0m\u001b[0mlistdir\u001b[0m\u001b[0;34m(\u001b[0m\u001b[0mos\u001b[0m\u001b[0;34m.\u001b[0m\u001b[0mpath\u001b[0m\u001b[0;34m.\u001b[0m\u001b[0mjoin\u001b[0m\u001b[0;34m(\u001b[0m\u001b[0mROOT_PATH\u001b[0m\u001b[0;34m,\u001b[0m \u001b[0mclass_\u001b[0m\u001b[0;34m)\u001b[0m\u001b[0;34m)\u001b[0m\u001b[0;34m\u001b[0m\u001b[0;34m\u001b[0m\u001b[0m\n\u001b[0m\u001b[1;32m      5\u001b[0m     \u001b[0;32mfor\u001b[0m \u001b[0mds\u001b[0m \u001b[0;32min\u001b[0m \u001b[0mdatasets\u001b[0m\u001b[0;34m:\u001b[0m\u001b[0;34m\u001b[0m\u001b[0;34m\u001b[0m\u001b[0m\n\u001b[1;32m      6\u001b[0m         \u001b[0mprint\u001b[0m \u001b[0;34m(\u001b[0m\u001b[0;34m\"[INFO]: Dataset {}, class_ {}\"\u001b[0m\u001b[0;34m.\u001b[0m\u001b[0mformat\u001b[0m\u001b[0;34m(\u001b[0m\u001b[0mds\u001b[0m\u001b[0;34m,\u001b[0m \u001b[0mclass_\u001b[0m\u001b[0;34m)\u001b[0m\u001b[0;34m)\u001b[0m\u001b[0;34m\u001b[0m\u001b[0;34m\u001b[0m\u001b[0m\n",
      "\u001b[0;31mNotADirectoryError\u001b[0m: [Errno 20] Not a directory: '../.gitignore'"
     ]
    }
   ],
   "source": [
    "classes = os.listdir(ROOT_PATH)\n",
    "\n",
    "for class_ in classes:\n",
    "    datasets = os.listdir(os.path.join(ROOT_PATH, class_))\n",
    "    for ds in datasets:\n",
    "        print (\"[INFO]: Dataset {}, class_ {}\".format(ds, class_))\n",
    "        plot_all(ds, class_, nvolumes = 20, nslices = 10)"
   ]
  },
  {
   "cell_type": "code",
   "execution_count": null,
   "metadata": {},
   "outputs": [],
   "source": []
  }
 ],
 "metadata": {
  "kernelspec": {
   "display_name": "Python 3",
   "language": "python",
   "name": "python3"
  },
  "language_info": {
   "codemirror_mode": {
    "name": "ipython",
    "version": 3
   },
   "file_extension": ".py",
   "mimetype": "text/x-python",
   "name": "python",
   "nbconvert_exporter": "python",
   "pygments_lexer": "ipython3",
   "version": "3.7.7"
  }
 },
 "nbformat": 4,
 "nbformat_minor": 4
}
