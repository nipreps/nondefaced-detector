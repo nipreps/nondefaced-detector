{
 "cells": [
  {
   "cell_type": "code",
   "execution_count": 13,
   "metadata": {},
   "outputs": [],
   "source": [
    "import os\n",
    "import numpy as np\n",
    "from nilearn.image import smooth_img\n",
    "from nilearn import plotting\n",
    "from glob import glob\n",
    "import sys\n",
    "sys.path.append('..')\n",
    "from defacing.helpers.utils import load_vol\n",
    "%matplotlib inline"
   ]
  },
  {
   "cell_type": "code",
   "execution_count": 14,
   "metadata": {},
   "outputs": [],
   "source": [
    "ROOT_PATH = '/work/06850/sbansal6/maverick2/mriqc-shared/preprocessing'\n",
    "DISTRIBUTION = load_vol('../defacing/helpers/distribution.nii.gz')[0]\n",
    "DISTRIBUTION /= DISTRIBUTION.sum()\n",
    "\n",
    "sampler = lambda n: np.array([ np.unravel_index(\n",
    "          np.random.choice(np.arange(np.prod(DISTRIBUTION.shape)),\n",
    "                                      p = DISTRIBUTION.ravel()),\n",
    "                                      DISTRIBUTION.shape) for _ in range(n)]) \n",
    "\n",
    "\n",
    "def plot(img_path, nslices=10):\n",
    "    coordinates = sampler(10)\n",
    "    img = smooth_img(img_path, fwhm=3) \n",
    "    for coordinate in coordinates:\n",
    "        display = plotting.plot_anat(img, display_mode='ortho', cut_coords = coordinate) \n",
    "        display.close()\n",
    "    pass\n",
    "\n",
    "def plot_all(dataset, \n",
    "             _class, \n",
    "             nvolumes = 25, \n",
    "             nslices = 10, \n",
    "             verbose = True):\n",
    "    \n",
    "    paths = glob(os.path.join(ROOT_PATH, _class, dataset, '*.nii.gz'))\n",
    "    paths = np.random.choice(paths, size=nvolumes) if len(paths) > nvolumes else paths\n",
    "    \n",
    "    for path in paths:\n",
    "        print(\"=\"*10 + path + \"=\"*10)\n",
    "        plot(path, nslices = nslices)\n",
    "    pass"
   ]
  },
  {
   "cell_type": "code",
   "execution_count": null,
   "metadata": {},
   "outputs": [],
   "source": [
    "plot_all('ds001912_anat', 'deface')"
   ]
  },
  {
   "cell_type": "code",
   "execution_count": null,
   "metadata": {},
   "outputs": [],
   "source": []
  }
 ],
 "metadata": {
  "kernelspec": {
   "display_name": "Python 3",
   "language": "python",
   "name": "python3"
  },
  "language_info": {
   "codemirror_mode": {
    "name": "ipython",
    "version": 3
   },
   "file_extension": ".py",
   "mimetype": "text/x-python",
   "name": "python",
   "nbconvert_exporter": "python",
   "pygments_lexer": "ipython3",
   "version": "3.7.7"
  }
 },
 "nbformat": 4,
 "nbformat_minor": 4
}
